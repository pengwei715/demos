{
 "cells": [
  {
   "cell_type": "markdown",
   "metadata": {},
   "source": [
    "# Part 3: Serving\n",
    "\n",
    "In this part you use MLRun's **serving runtime** to deploy your trained models from the previous stage, a `Voting Ensemble` using **max vote** logic.\n",
    "You also use MLRun's **Feature store** to receive the latest tag of the online **Feature Vector** you defined in the previous stage.\n",
    "\n",
    "By the end of this tutorial you’ll learn how to:\n",
    "- Define a model class to load your models, run preprocessing, and predict on the data\n",
    "- Define a Voting Ensemble function on top of your models\n",
    "- Test the serving function locally using your `mock server`\n",
    "- Deploy the function to the cluster and test it live"
   ]
  },
  {
   "cell_type": "markdown",
   "metadata": {},
   "source": [
    "## Environment setup\n",
    "\n",
    "First, make sure SciKit-Learn is installed in the correct version:"
   ]
  },
  {
   "cell_type": "code",
   "execution_count": 1,
   "metadata": {
    "jupyter": {
     "outputs_hidden": false
    },
    "pycharm": {
     "name": "#%%\n"
    }
   },
   "outputs": [
    {
     "name": "stdout",
     "output_type": "stream",
     "text": [
      "Requirement already satisfied: scikit-learn==1.2.2 in /Users/Peng_Wei/.pyenv/versions/3.8.5/lib/python3.8/site-packages (1.2.2)\n",
      "Requirement already satisfied: numpy>=1.17.3 in /Users/Peng_Wei/.local/lib/python3.8/site-packages (from scikit-learn==1.2.2) (1.22.4)\n",
      "Requirement already satisfied: scipy>=1.3.2 in /Users/Peng_Wei/.local/lib/python3.8/site-packages (from scikit-learn==1.2.2) (1.10.1)\n",
      "Requirement already satisfied: joblib>=1.1.1 in /Users/Peng_Wei/.pyenv/versions/3.8.5/lib/python3.8/site-packages (from scikit-learn==1.2.2) (1.3.1)\n",
      "Requirement already satisfied: threadpoolctl>=2.0.0 in /Users/Peng_Wei/.local/lib/python3.8/site-packages (from scikit-learn==1.2.2) (3.1.0)\n"
     ]
    }
   ],
   "source": [
    "!pip install -U scikit-learn==1.2.2"
   ]
  },
  {
   "cell_type": "markdown",
   "metadata": {
    "pycharm": {
     "name": "#%% md\n"
    }
   },
   "source": [
    "Restart your kernel post installing.\n",
    "Since your work is done in this project scope, you should define the project itself for all your MLRun work in this notebook."
   ]
  },
  {
   "cell_type": "code",
   "execution_count": 2,
   "metadata": {},
   "outputs": [],
   "source": [
    "project_name = 'fraud-demo'"
   ]
  },
  {
   "cell_type": "code",
   "execution_count": 3,
   "metadata": {},
   "outputs": [
    {
     "name": "stdout",
     "output_type": "stream",
     "text": [
      "> 2023-07-13 10:52:42,275 [info] Username was normalized to match the required pattern for project name: {'username': 'PengWei', 'normalized_username': 'pengwei'}\n",
      "> 2023-07-13 10:52:42,276 [info] Username was normalized to match the required pattern for project name: {'username': 'PengWei', 'normalized_username': 'pengwei'}\n",
      "> 2023-07-13 10:52:42,396 [info] loaded project fraud-demo from MLRun DB\n"
     ]
    }
   ],
   "source": [
    "import mlrun\n",
    "\n",
    "# Initialize the MLRun project object\n",
    "project = mlrun.get_or_create_project(project_name, context=\"./\", user_project=True)"
   ]
  },
  {
   "cell_type": "markdown",
   "metadata": {},
   "source": [
    "## Define model class\n",
    "- Load models\n",
    "- Predict from the feature store online service via the `source` key"
   ]
  },
  {
   "cell_type": "code",
   "execution_count": 4,
   "metadata": {},
   "outputs": [],
   "source": [
    "# mlrun: start-code"
   ]
  },
  {
   "cell_type": "code",
   "execution_count": 5,
   "metadata": {},
   "outputs": [],
   "source": [
    "import numpy as np\n",
    "from cloudpickle import load\n",
    "from mlrun.serving.v2_serving import V2ModelServer\n",
    "\n",
    "class ClassifierModel(V2ModelServer):\n",
    "    \n",
    "    def load(self):\n",
    "        \"\"\"load and initialize the model and/or other elements\"\"\"\n",
    "        model_file, extra_data = self.get_model('.pkl')\n",
    "        self.model = load(open(model_file, 'rb'))\n",
    "        \n",
    "    def predict(self, body: dict) -> list:\n",
    "        \"\"\"Generate model predictions from sample\"\"\"\n",
    "        print(f\"Input -> {body['inputs']}\")\n",
    "        feats = np.asarray(body['inputs'])\n",
    "        result: np.ndarray = self.model.predict(feats)\n",
    "        return result.tolist()"
   ]
  },
  {
   "cell_type": "code",
   "execution_count": 6,
   "metadata": {},
   "outputs": [],
   "source": [
    "# mlrun: end-code"
   ]
  },
  {
   "cell_type": "markdown",
   "metadata": {},
   "source": [
    "## Define a serving function\n",
    "\n",
    "MLRun serving can produce managed real-time serverless pipelines from various tasks, including MLRun models or standard model files.\n",
    "The pipelines use the Nuclio real-time serverless engine, which can be deployed anywhere.\n",
    "[Nuclio](https://nuclio.io/) is a high-performance open-source serverless framework that's focused on data, I/O, and compute-intensive workloads.\n",
    "\n",
    "The **EnrichmentVotingEnsemble** and the **EnrichmentModelRouter** router classes auto-enrich the request with data from the feature store.\n",
    "The router input accepts a list of inference requests (each request can be a dict or list of incoming features/keys). It enriches the request with data from the specified feature vector (`feature_vector_uri`).\n",
    "\n",
    "In many cases the features can have null values (None, NaN, Inf, ..). The `Enrichment` routers can substitute the null \n",
    "value with fixed or statistical value per feature. This is done through the `impute_policy` parameter, which accepts the \n",
    "impute policy per feature (where `*` is used to specify the default). The value can be a fixed number for constants or \n",
    "`$mean`, `$max`, `$min`, `$std`, `$count` for statistical values, to substitute the value with the equivalent feature stats (taken from the feature store).  \n",
    "\n",
    "The following code achieves:\n",
    "\n",
    "- Gather ClassifierModel code from this notebook\n",
    "- Define `EnrichmentVotingEnsemble` - Max-Vote based ensemble with feature enrichment and imputing\n",
    "- Add the previously trained models to the ensemble"
   ]
  },
  {
   "cell_type": "code",
   "execution_count": 9,
   "metadata": {},
   "outputs": [
    {
     "data": {
      "image/svg+xml": [
       "<?xml version=\"1.0\" encoding=\"UTF-8\" standalone=\"no\"?>\n",
       "<!DOCTYPE svg PUBLIC \"-//W3C//DTD SVG 1.1//EN\"\n",
       " \"http://www.w3.org/Graphics/SVG/1.1/DTD/svg11.dtd\">\n",
       "<!-- Generated by graphviz version 8.1.0 (20230707.0739)\n",
       " -->\n",
       "<!-- Title: mlrun&#45;flow Pages: 1 -->\n",
       "<svg width=\"660pt\" height=\"196pt\"\n",
       " viewBox=\"0.00 0.00 659.92 196.00\" xmlns=\"http://www.w3.org/2000/svg\" xmlns:xlink=\"http://www.w3.org/1999/xlink\">\n",
       "<g id=\"graph0\" class=\"graph\" transform=\"scale(1 1) rotate(0) translate(4 192)\">\n",
       "<title>mlrun&#45;flow</title>\n",
       "<polygon fill=\"white\" stroke=\"none\" points=\"-4,4 -4,-192 655.92,-192 655.92,4 -4,4\"/>\n",
       "<!-- _start -->\n",
       "<g id=\"node1\" class=\"node\">\n",
       "<title>_start</title>\n",
       "<polygon fill=\"lightgrey\" stroke=\"black\" points=\"301.81,-152.05 303.58,-152.15 305.32,-152.3 307.04,-152.49 308.72,-152.74 310.37,-153.03 311.97,-153.36 313.52,-153.75 315.01,-154.18 316.44,-154.65 317.8,-155.16 319.08,-155.71 320.29,-156.31 321.42,-156.94 322.46,-157.61 323.42,-158.31 324.29,-159.04 325.06,-159.8 325.74,-160.59 326.33,-161.41 326.82,-162.25 327.22,-163.11 327.53,-163.99 327.74,-164.89 327.86,-165.8 327.9,-166.72 327.84,-167.65 327.7,-168.59 327.48,-169.53 327.18,-170.47 326.81,-171.41 326.36,-172.35 325.84,-173.28 325.26,-174.2 324.62,-175.11 323.92,-176.01 323.17,-176.89 322.37,-177.75 321.52,-178.59 320.64,-179.41 319.71,-180.2 318.75,-180.96 317.76,-181.69 316.74,-182.39 315.7,-183.06 314.63,-183.69 313.55,-184.29 312.45,-184.84 311.33,-185.35 310.2,-185.82 309.06,-186.25 307.92,-186.64 306.76,-186.97 305.6,-187.26 304.43,-187.51 303.26,-187.7 302.09,-187.85 300.92,-187.95 299.74,-188 298.57,-188 297.39,-187.95 296.22,-187.85 295.04,-187.7 293.87,-187.51 292.71,-187.26 291.55,-186.97 290.39,-186.64 289.25,-186.25 288.11,-185.82 286.98,-185.35 285.86,-184.84 284.76,-184.29 283.68,-183.69 282.61,-183.06 281.57,-182.39 280.55,-181.69 279.56,-180.96 278.6,-180.2 277.67,-179.41 276.78,-178.59 275.94,-177.75 275.14,-176.89 274.39,-176.01 273.69,-175.11 273.04,-174.2 272.46,-173.28 271.95,-172.35 271.5,-171.41 271.13,-170.47 270.83,-169.53 270.6,-168.59 270.47,-167.65 270.41,-166.72 270.44,-165.8 270.57,-164.89 270.78,-163.99 271.09,-163.11 271.49,-162.25 271.98,-161.41 272.57,-160.59 273.25,-159.8 274.02,-159.04 274.89,-158.31 275.85,-157.61 276.89,-156.94 278.02,-156.31 279.23,-155.71 280.51,-155.16 281.87,-154.65 283.3,-154.18 284.79,-153.75 286.34,-153.36 287.94,-153.03 289.59,-152.74 291.27,-152.49 292.99,-152.3 294.73,-152.15 296.49,-152.05 298.27,-152 300.04,-152 301.81,-152.05\"/>\n",
       "<text text-anchor=\"middle\" x=\"299.15\" y=\"-164.95\" font-family=\"Times,serif\" font-size=\"14.00\">start</text>\n",
       "</g>\n",
       "<g id=\"node2\" class=\"node\">\n",
       "<title></title>\n",
       "<polygon fill=\"none\" stroke=\"black\" points=\"326.15,-86.54 326.15,-101.46 310.34,-112 287.97,-112 272.15,-101.46 272.15,-86.54 287.97,-76 310.34,-76 326.15,-86.54\"/>\n",
       "<polygon fill=\"none\" stroke=\"black\" points=\"330.15,-84.4 330.15,-103.6 311.55,-116 286.76,-116 268.15,-103.6 268.15,-84.4 286.76,-72 311.55,-72 330.15,-84.4\"/>\n",
       "</g>\n",
       "<!-- _start&#45;&gt; -->\n",
       "<g id=\"edge1\" class=\"edge\">\n",
       "<title>_start&#45;&gt;</title>\n",
       "<path fill=\"none\" stroke=\"black\" d=\"M299.15,-151.84C299.15,-144.47 299.15,-135.62 299.15,-127.12\"/>\n",
       "<polygon fill=\"black\" stroke=\"black\" points=\"302.65,-127.3 299.15,-117.3 295.65,-127.3 302.65,-127.3\"/>\n",
       "</g>\n",
       "<!-- transaction_fraud_rf -->\n",
       "<g id=\"node3\" class=\"node\">\n",
       "<title>transaction_fraud_rf</title>\n",
       "<ellipse fill=\"none\" stroke=\"black\" cx=\"86.15\" cy=\"-18\" rx=\"86.15\" ry=\"18\"/>\n",
       "<text text-anchor=\"middle\" x=\"86.15\" y=\"-12.95\" font-family=\"Times,serif\" font-size=\"14.00\">transaction_fraud_rf</text>\n",
       "</g>\n",
       "<!-- &#45;&gt;transaction_fraud_rf -->\n",
       "<g id=\"edge2\" class=\"edge\">\n",
       "<title>&#45;&gt;transaction_fraud_rf</title>\n",
       "<path fill=\"none\" stroke=\"black\" d=\"M269.98,-82.87C236.48,-71.23 180.82,-51.89 139.5,-37.53\"/>\n",
       "<polygon fill=\"black\" stroke=\"black\" points=\"140.93,-33.98 130.33,-34 138.63,-40.59 140.93,-33.98\"/>\n",
       "</g>\n",
       "<!-- transaction_fraud_xgboost -->\n",
       "<g id=\"node4\" class=\"node\">\n",
       "<title>transaction_fraud_xgboost</title>\n",
       "<ellipse fill=\"none\" stroke=\"black\" cx=\"299.15\" cy=\"-18\" rx=\"109.19\" ry=\"18\"/>\n",
       "<text text-anchor=\"middle\" x=\"299.15\" y=\"-12.95\" font-family=\"Times,serif\" font-size=\"14.00\">transaction_fraud_xgboost</text>\n",
       "</g>\n",
       "<!-- &#45;&gt;transaction_fraud_xgboost -->\n",
       "<g id=\"edge3\" class=\"edge\">\n",
       "<title>&#45;&gt;transaction_fraud_xgboost</title>\n",
       "<path fill=\"none\" stroke=\"black\" d=\"M299.15,-71.6C299.15,-63.94 299.15,-55.19 299.15,-47.05\"/>\n",
       "<polygon fill=\"black\" stroke=\"black\" points=\"302.65,-47.13 299.15,-37.13 295.65,-47.13 302.65,-47.13\"/>\n",
       "</g>\n",
       "<!-- transaction_fraud_adaboost -->\n",
       "<g id=\"node5\" class=\"node\">\n",
       "<title>transaction_fraud_adaboost</title>\n",
       "<ellipse fill=\"none\" stroke=\"black\" cx=\"539.15\" cy=\"-18\" rx=\"112.77\" ry=\"18\"/>\n",
       "<text text-anchor=\"middle\" x=\"539.15\" y=\"-12.95\" font-family=\"Times,serif\" font-size=\"14.00\">transaction_fraud_adaboost</text>\n",
       "</g>\n",
       "<!-- &#45;&gt;transaction_fraud_adaboost -->\n",
       "<g id=\"edge4\" class=\"edge\">\n",
       "<title>&#45;&gt;transaction_fraud_adaboost</title>\n",
       "<path fill=\"none\" stroke=\"black\" d=\"M329.55,-83.63C366.84,-72.13 430.95,-52.36 478.48,-37.71\"/>\n",
       "<polygon fill=\"black\" stroke=\"black\" points=\"479.43,-40.77 487.96,-34.48 477.37,-34.08 479.43,-40.77\"/>\n",
       "</g>\n",
       "</g>\n",
       "</svg>\n"
      ],
      "text/plain": [
       "<graphviz.graphs.Digraph at 0x1126d9eb0>"
      ]
     },
     "execution_count": 9,
     "metadata": {},
     "output_type": "execute_result"
    }
   ],
   "source": [
    "# Create the serving function from your code above\n",
    "serving_fn = mlrun.code_to_function('transaction-fraud', kind='serving', image=\"mlrun/mlrun\").apply(mlrun.auto_mount())\n",
    "\n",
    "serving_fn.set_topology('router', 'mlrun.serving.routers.EnrichmentVotingEnsemble', name='VotingEnsemble',\n",
    "                        feature_vector_uri=\"transactions-fraud-short\", impute_policy={\"*\": \"$mean\"})\n",
    "\n",
    "model_names = [\n",
    "'transaction_fraud_rf',\n",
    "'transaction_fraud_xgboost',\n",
    "'transaction_fraud_adaboost'\n",
    "]\n",
    "\n",
    "for i, name in enumerate(model_names, start=1):\n",
    "    serving_fn.add_model(name, class_name=\"ClassifierModel\", model_path=project.get_artifact_uri(f\"{name}#{i}:latest\"))\n",
    "\n",
    "# Plot the ensemble configuration\n",
    "serving_fn.spec.graph.plot()"
   ]
  },
  {
   "cell_type": "markdown",
   "metadata": {},
   "source": [
    "## Test the server locally\n",
    "\n",
    "Before deploying the serving function, you can test it in the current notebook and check the model output."
   ]
  },
  {
   "cell_type": "code",
   "execution_count": 10,
   "metadata": {},
   "outputs": [
    {
     "name": "stdout",
     "output_type": "stream",
     "text": [
      "> 2023-07-13 10:54:18,060 [info] model transaction_fraud_rf was loaded\n",
      "> 2023-07-13 10:54:18,751 [info] model transaction_fraud_xgboost was loaded\n",
      "> 2023-07-13 10:54:19,295 [info] model transaction_fraud_adaboost was loaded\n"
     ]
    }
   ],
   "source": [
    "# Create a mock server from the serving function\n",
    "import os\n",
    "os.environ[\"V3IO_API\"] = \"https://webapi.default-tenant.app.qb-demos.iguazio-cd1.com\"\n",
    "local_server = serving_fn.to_mock_server()"
   ]
  },
  {
   "cell_type": "code",
   "execution_count": 11,
   "metadata": {},
   "outputs": [
    {
     "name": "stdout",
     "output_type": "stream",
     "text": [
      "Input -> [[60.98, 73.78999999999999, 2.0, 36.894999999999996, 134.16, 999.8500000000001, 31.0, 32.25322580645162, 143.87, 1835.7000000000003, 58.0, 31.650000000000006, 90.0, 1.0, 2.0]]\n",
      "Input -> [[60.98, 73.78999999999999, 2.0, 36.894999999999996, 134.16, 999.8500000000001, 31.0, 32.25322580645162, 143.87, 1835.7000000000003, 58.0, 31.650000000000006, 90.0, 1.0, 2.0]]\n",
      "Input -> [[60.98, 73.78999999999999, 2.0, 36.894999999999996, 134.16, 999.8500000000001, 31.0, 32.25322580645162, 143.87, 1835.7000000000003, 58.0, 31.650000000000006, 90.0, 1.0, 2.0]]\n"
     ]
    },
    {
     "name": "stderr",
     "output_type": "stream",
     "text": [
      "X does not have valid feature names, but RandomForestClassifier was fitted with feature names\n",
      "X does not have valid feature names, but GradientBoostingClassifier was fitted with feature names\n",
      "X does not have valid feature names, but AdaBoostClassifier was fitted with feature names\n"
     ]
    },
    {
     "data": {
      "text/plain": [
       "{'id': '97d6f22f70764fc9a2ab4bb8bde66a6e',\n",
       " 'model_name': 'VotingEnsemble',\n",
       " 'outputs': [0],\n",
       " 'model_version': 'v1'}"
      ]
     },
     "execution_count": 11,
     "metadata": {},
     "output_type": "execute_result"
    }
   ],
   "source": [
    "# Choose an id for your test\n",
    "sample_id = 'C1000148617'\n",
    "\n",
    "model_inference_path = '/v2/models/infer'\n",
    "\n",
    "# Send your sample ID for prediction\n",
    "local_server.test(path=model_inference_path,\n",
    "            body={'inputs': [[sample_id]]})\n",
    "\n",
    "# notice the input vector is printed 3 times (once per child model) and is enriched with data from the feature store"
   ]
  },
  {
   "cell_type": "markdown",
   "metadata": {},
   "source": [
    "### Accessing the real-time feature vector directly\n",
    "\n",
    "You can also directly query the feature store values using the `get_online_feature_service` method. This method is used internally in the EnrichmentVotingEnsemble router class."
   ]
  },
  {
   "cell_type": "code",
   "execution_count": 12,
   "metadata": {},
   "outputs": [
    {
     "data": {
      "text/plain": [
       "[{'amount_max_2h': 60.98,\n",
       "  'amount_max_12h': 134.16,\n",
       "  'amount_max_24h': 143.87,\n",
       "  'amount_sum_2h': 73.78999999999999,\n",
       "  'amount_sum_12h': 999.8500000000001,\n",
       "  'amount_sum_24h': 1835.7000000000003,\n",
       "  'amount_count_2h': 2.0,\n",
       "  'amount_count_12h': 31.0,\n",
       "  'amount_count_24h': 58.0,\n",
       "  'es_transportation_sum_14d': 90.0,\n",
       "  'es_health_sum_14d': 1.0,\n",
       "  'es_otherservices_sum_14d': 2.0,\n",
       "  'amount_avg_2h': 36.894999999999996,\n",
       "  'amount_avg_12h': 32.25322580645162,\n",
       "  'amount_avg_24h': 31.650000000000006}]"
      ]
     },
     "execution_count": 12,
     "metadata": {},
     "output_type": "execute_result"
    }
   ],
   "source": [
    "import mlrun.feature_store as fstore\n",
    "\n",
    "# Create the online feature service\n",
    "svc = fstore.get_online_feature_service('transactions-fraud-short:latest', impute_policy={\"*\": \"$mean\"})\n",
    "\n",
    "# Get sample feature vector\n",
    "sample_fv = svc.get([{'source': sample_id}])\n",
    "sample_fv"
   ]
  },
  {
   "cell_type": "markdown",
   "metadata": {},
   "source": [
    "## Deploying the function on the Kubernetes cluster\n",
    "\n",
    "You can now deploy the function. Once deployed, you get a function with http trigger that can be called from other locations."
   ]
  },
  {
   "cell_type": "code",
   "execution_count": 13,
   "metadata": {},
   "outputs": [
    {
     "name": "stdout",
     "output_type": "stream",
     "text": [
      "> 2023-07-13 10:54:21,254 [info] Starting remote function deploy\n",
      "2023-07-13 17:54:23  (info) Deploying function\n",
      "2023-07-13 17:54:23  (info) Building\n",
      "2023-07-13 17:54:23  (info) Staging files and preparing base images\n",
      "2023-07-13 17:54:23  (info) Building processor image\n",
      "2023-07-13 17:55:39  (info) Build complete\n",
      "2023-07-13 17:55:59  (info) Function deploy complete\n",
      "> 2023-07-13 10:56:07,136 [info] successfully deployed function: {'internal_invocation_urls': ['nuclio-fraud-demo-pengwei-transaction-fraud.default-tenant.svc.cluster.local:8080'], 'external_invocation_urls': ['fraud-demo-pengwei-transaction-fraud-fraud-demo-pengwei.default-tenant.app.qb-demos.iguazio-cd1.com/']}\n"
     ]
    },
    {
     "data": {
      "text/plain": [
       "'http://fraud-demo-pengwei-transaction-fraud-fraud-demo-pengwei.default-tenant.app.qb-demos.iguazio-cd1.com/'"
      ]
     },
     "execution_count": 13,
     "metadata": {},
     "output_type": "execute_result"
    }
   ],
   "source": [
    "import os\n",
    "\n",
    "# Enable model monitoring\n",
    "serving_fn.set_tracking()\n",
    "project.set_model_monitoring_credentials(os.getenv('V3IO_ACCESS_KEY'))\n",
    "\n",
    "# Deploy the serving function\n",
    "serving_fn.deploy()"
   ]
  },
  {
   "cell_type": "markdown",
   "metadata": {},
   "source": [
    "## Test the server\n",
    "\n",
    "You can test the serving function and examine the model output."
   ]
  },
  {
   "cell_type": "code",
   "execution_count": 14,
   "metadata": {},
   "outputs": [
    {
     "name": "stdout",
     "output_type": "stream",
     "text": [
      "> 2023-07-13 10:56:10,634 [info] invoking function: {'method': 'POST', 'path': 'http://fraud-demo-pengwei-transaction-fraud-fraud-demo-pengwei.default-tenant.app.qb-demos.iguazio-cd1.com//v2/models/infer'}\n"
     ]
    },
    {
     "data": {
      "text/plain": [
       "{'id': 'a27c4fc6-a2a6-4f55-ba7a-866620519906',\n",
       " 'model_name': 'VotingEnsemble',\n",
       " 'outputs': [0],\n",
       " 'model_version': 'v1'}"
      ]
     },
     "execution_count": 14,
     "metadata": {},
     "output_type": "execute_result"
    }
   ],
   "source": [
    "# Choose an id for your test\n",
    "sample_id = 'C1000148617'\n",
    "\n",
    "model_inference_path = '/v2/models/infer'\n",
    "\n",
    "# Send your sample ID for prediction\n",
    "serving_fn.invoke(path=model_inference_path,\n",
    "                  body={'inputs': [[sample_id]]})"
   ]
  },
  {
   "cell_type": "markdown",
   "metadata": {},
   "source": [
    "You can also directly query the feature store values, which are used in the enrichment."
   ]
  },
  {
   "cell_type": "markdown",
   "metadata": {},
   "source": [
    "### Simulate incoming data"
   ]
  },
  {
   "cell_type": "code",
   "execution_count": 15,
   "metadata": {},
   "outputs": [],
   "source": [
    "# Load the dataset\n",
    "data = mlrun.get_dataitem('https://s3.wasabisys.com/iguazio/data/fraud-demo-mlrun-fs-docs/data.csv').as_df()\n",
    "\n",
    "# use only first 10k\n",
    "data = data.sort_values(by='source', axis=0)[:10000]\n",
    "\n",
    "# keys\n",
    "sample_ids = data['source'].to_list()"
   ]
  },
  {
   "cell_type": "code",
   "execution_count": 16,
   "metadata": {},
   "outputs": [
    {
     "name": "stdout",
     "output_type": "stream",
     "text": [
      "> 2023-07-13 10:56:43,300 [info] invoking function: {'method': 'POST', 'path': 'http://fraud-demo-pengwei-transaction-fraud-fraud-demo-pengwei.default-tenant.app.qb-demos.iguazio-cd1.com//v2/models/infer'}\n",
      "{'id': '635238af-f36e-4650-98f5-6afb393a8d1b', 'model_name': 'VotingEnsemble', 'outputs': [0], 'model_version': 'v1'}\n",
      "> 2023-07-13 10:56:44,691 [info] invoking function: {'method': 'POST', 'path': 'http://fraud-demo-pengwei-transaction-fraud-fraud-demo-pengwei.default-tenant.app.qb-demos.iguazio-cd1.com//v2/models/infer'}\n",
      "{'id': '1ea77d16-1b30-468c-957d-6422d9cc9c0a', 'model_name': 'VotingEnsemble', 'outputs': [0], 'model_version': 'v1'}\n",
      "> 2023-07-13 10:56:45,165 [info] invoking function: {'method': 'POST', 'path': 'http://fraud-demo-pengwei-transaction-fraud-fraud-demo-pengwei.default-tenant.app.qb-demos.iguazio-cd1.com//v2/models/infer'}\n",
      "{'id': 'ac36f04c-a55b-43b9-b71b-7f1156ed1c99', 'model_name': 'VotingEnsemble', 'outputs': [0], 'model_version': 'v1'}\n",
      "> 2023-07-13 10:56:46,710 [info] invoking function: {'method': 'POST', 'path': 'http://fraud-demo-pengwei-transaction-fraud-fraud-demo-pengwei.default-tenant.app.qb-demos.iguazio-cd1.com//v2/models/infer'}\n",
      "{'id': '63b0490d-30ae-4a62-846e-a2de6b4567bc', 'model_name': 'VotingEnsemble', 'outputs': [0], 'model_version': 'v1'}\n",
      "> 2023-07-13 10:56:48,109 [info] invoking function: {'method': 'POST', 'path': 'http://fraud-demo-pengwei-transaction-fraud-fraud-demo-pengwei.default-tenant.app.qb-demos.iguazio-cd1.com//v2/models/infer'}\n",
      "{'id': '9e87fa90-155f-41fb-aa28-625436664a9f', 'model_name': 'VotingEnsemble', 'outputs': [0], 'model_version': 'v1'}\n",
      "> 2023-07-13 10:56:49,240 [info] invoking function: {'method': 'POST', 'path': 'http://fraud-demo-pengwei-transaction-fraud-fraud-demo-pengwei.default-tenant.app.qb-demos.iguazio-cd1.com//v2/models/infer'}\n",
      "{'id': 'e5fa7c3b-2721-4561-a5bd-e428dddd151c', 'model_name': 'VotingEnsemble', 'outputs': [0], 'model_version': 'v1'}\n",
      "> 2023-07-13 10:56:50,578 [info] invoking function: {'method': 'POST', 'path': 'http://fraud-demo-pengwei-transaction-fraud-fraud-demo-pengwei.default-tenant.app.qb-demos.iguazio-cd1.com//v2/models/infer'}\n",
      "{'id': '61359acb-9b38-451b-82d4-8502cafe920a', 'model_name': 'VotingEnsemble', 'outputs': [0], 'model_version': 'v1'}\n",
      "> 2023-07-13 10:56:51,470 [info] invoking function: {'method': 'POST', 'path': 'http://fraud-demo-pengwei-transaction-fraud-fraud-demo-pengwei.default-tenant.app.qb-demos.iguazio-cd1.com//v2/models/infer'}\n",
      "{'id': 'b3e18def-eab0-4201-bccf-c08c9beb4473', 'model_name': 'VotingEnsemble', 'outputs': [0], 'model_version': 'v1'}\n",
      "> 2023-07-13 10:56:52,339 [info] invoking function: {'method': 'POST', 'path': 'http://fraud-demo-pengwei-transaction-fraud-fraud-demo-pengwei.default-tenant.app.qb-demos.iguazio-cd1.com//v2/models/infer'}\n",
      "{'id': 'a795a525-0929-4678-ac6d-381c6c2983db', 'model_name': 'VotingEnsemble', 'outputs': [0], 'model_version': 'v1'}\n",
      "> 2023-07-13 10:56:52,853 [info] invoking function: {'method': 'POST', 'path': 'http://fraud-demo-pengwei-transaction-fraud-fraud-demo-pengwei.default-tenant.app.qb-demos.iguazio-cd1.com//v2/models/infer'}\n",
      "{'id': '80aa816e-830a-4fce-8a2d-a5931a1ea7fa', 'model_name': 'VotingEnsemble', 'outputs': [0], 'model_version': 'v1'}\n"
     ]
    }
   ],
   "source": [
    "from random import choice, uniform\n",
    "from time import sleep\n",
    "\n",
    "# Sending random requests\n",
    "for _ in range(10):\n",
    "    data_point = choice(sample_ids)\n",
    "    try:\n",
    "        resp = serving_fn.invoke(path=model_inference_path, body={'inputs': [[data_point]]})\n",
    "        print(resp)\n",
    "        sleep(uniform(0.2, 1.7))\n",
    "    except OSError:\n",
    "        pass"
   ]
  },
  {
   "cell_type": "markdown",
   "metadata": {
    "pycharm": {
     "name": "#%% md\n"
    }
   },
   "source": [
    "## Done!\n",
    "\n",
    "You've completed Part 3 of the deploying the serving function.\n",
    "Proceed to [Part 4](04-pipeline.html) to learn how to automate ML Pipeline.\n",
    "\n"
   ]
  }
 ],
 "metadata": {
  "kernelspec": {
   "display_name": "pii",
   "language": "python",
   "name": "pii"
  },
  "language_info": {
   "codemirror_mode": {
    "name": "ipython",
    "version": 3
   },
   "file_extension": ".py",
   "mimetype": "text/x-python",
   "name": "python",
   "nbconvert_exporter": "python",
   "pygments_lexer": "ipython3",
   "version": "3.8.5"
  }
 },
 "nbformat": 4,
 "nbformat_minor": 4
}
