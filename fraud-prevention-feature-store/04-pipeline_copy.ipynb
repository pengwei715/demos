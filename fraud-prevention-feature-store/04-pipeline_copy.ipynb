{
 "cells": [
  {
   "cell_type": "markdown",
   "metadata": {},
   "source": [
    "# Part 4: Automated ML pipeline\n",
    "\n",
    "MLRun Project is a container for all your work on a particular activity: all of the associated code, functions, \n",
    "jobs/workflows and artifacts. Projects can be mapped to `git` repositories, which enable versioning, collaboration, and CI/CD.\n",
    "Users can create project definitions using the SDK or a yaml file and store those in MLRun DB, file, or archive.\n",
    "Once the project is loaded you can run jobs/workflows that refer to any project element by name, allowing separation between configuration and code. \n",
    "\n",
    "Projects contain `workflows` that execute the registered functions in a sequence/graph (DAG), can reference project \n",
    "parameters, secrets and artifacts by name. This notebook demonstrates how to build an automated workflow with \n",
    "**feature selection**, **training**, **testing**, and **deployment**. "
   ]
  },
  {
   "cell_type": "markdown",
   "metadata": {},
   "source": [
    "<a id=\"gs-tutorial-4-prerequisites\"></a>"
   ]
  },
  {
   "cell_type": "markdown",
   "metadata": {},
   "source": [
    "## Step 1: Setting up your project\n",
    "\n",
    "To run a pipeline, you first need to get or create a project object and define/import the required functions for its execution.\n",
    "See the [**Create, save, and use projects**](../../projects/create-project.html) for details.\n",
    "\n",
    "The following code gets or creates a user project named \"fraud-demo<username>\"."
   ]
  },
  {
   "cell_type": "code",
   "execution_count": 1,
   "metadata": {},
   "outputs": [],
   "source": [
    "# Set the base project name\n",
    "project_name = 'fraud-demo'"
   ]
  },
  {
   "cell_type": "code",
   "execution_count": 2,
   "metadata": {},
   "outputs": [
    {
     "name": "stdout",
     "output_type": "stream",
     "text": [
      "> 2023-07-13 10:57:24,622 [info] Username was normalized to match the required pattern for project name: {'username': 'PengWei', 'normalized_username': 'pengwei'}\n",
      "> 2023-07-13 10:57:24,623 [info] Username was normalized to match the required pattern for project name: {'username': 'PengWei', 'normalized_username': 'pengwei'}\n",
      "> 2023-07-13 10:57:24,737 [info] loaded project fraud-demo from MLRun DB\n"
     ]
    }
   ],
   "source": [
    "import mlrun\n",
    "\n",
    "# Initialize the MLRun project object\n",
    "project = mlrun.get_or_create_project(project_name, context=\"./\", user_project=True)"
   ]
  },
  {
   "cell_type": "markdown",
   "metadata": {},
   "source": [
    "<a id=\"gs-tutorial-4-step-import-functions\"></a>"
   ]
  },
  {
   "cell_type": "markdown",
   "metadata": {},
   "source": [
    "## Step 2: Updating project and function definitions\n",
    "\n",
    "You need to save the definitions for the function you use in the projects. This enables automatically converting code \n",
    "to functions or import external functions whenever you load new versions of your code or when you run automated CI/CD \n",
    "workflows. In addition, you may want to set other project attributes such as global parameters, secrets, and data.\n",
    "\n",
    "Your code can be stored in Python files, notebooks, external repositories, packaged containers, etc. You use the \n",
    "`project.set_function()` method to register your code in the project. The definitions are saved to the project object, as \n",
    "well as in a YAML file in the root of our project.\n",
    "Functions can also be imported from MLRun marketplace (using the `hub://` schema).\n",
    "\n",
    "This tutorial uses these functions:\n",
    "- `feature_selection` &mdash; the first function, which determines the top features to be used for training.\n",
    "- `train` &mdash; the model-training function\n",
    "- `evaluate` &mdash; the model-testing function\n",
    "- `mlrun-model` &mdash; the model-serving function\n",
    "\n",
    "`set_function` uses the `code_to_function` and `import_function` methods under the hood (used in the previous notebooks), but in addition it saves the function configurations in the project spec for use in automated workflows and CI/CD. \n",
    "\n",
    "Add the function definitions to the project along with parameters and data artifacts and save the project."
   ]
  },
  {
   "cell_type": "markdown",
   "metadata": {},
   "source": [
    "<a id=\"gs-tutorial-4-view-project-functions\"></a>"
   ]
  },
  {
   "cell_type": "code",
   "execution_count": 3,
   "metadata": {},
   "outputs": [
    {
     "name": "stderr",
     "output_type": "stream",
     "text": [
      "Names with underscore '_' are about to be deprecated, use dashes '-' instead. Replacing underscores with dashes.\n"
     ]
    },
    {
     "data": {
      "text/plain": [
       "<mlrun.runtimes.serving.ServingRuntime at 0x109593730>"
      ]
     },
     "execution_count": 3,
     "metadata": {},
     "output_type": "execute_result"
    }
   ],
   "source": [
    "project.set_function('hub://feature_selection', 'feature_selection')\n",
    "project.set_function('hub://auto_trainer','train')\n",
    "project.set_function('hub://v2_model_server', 'serving')"
   ]
  },
  {
   "cell_type": "code",
   "execution_count": 4,
   "metadata": {},
   "outputs": [
    {
     "data": {
      "text/plain": [
       "<mlrun.projects.project.MlrunProject at 0x109593a00>"
      ]
     },
     "execution_count": 4,
     "metadata": {},
     "output_type": "execute_result"
    }
   ],
   "source": [
    "# set project level parameters and save\n",
    "project.spec.params = {'label_column': 'label'}\n",
    "project.save()"
   ]
  },
  {
   "cell_type": "markdown",
   "metadata": {},
   "source": [
    "<br>When you save the project it stores the project definitions in the `project.yaml`. This allows you to load the project \n",
    "from the source control (GIT) and run it with a single command or API call.\n",
    "\n",
    "The project YAML for this project can be printed using:"
   ]
  },
  {
   "cell_type": "code",
   "execution_count": 5,
   "metadata": {},
   "outputs": [
    {
     "name": "stdout",
     "output_type": "stream",
     "text": [
      "kind: project\n",
      "metadata:\n",
      "  name: fraud-demo-pengwei\n",
      "  created: '2023-07-13T16:53:10.690000'\n",
      "spec:\n",
      "  params:\n",
      "    label_column: label\n",
      "  functions:\n",
      "  - url: hub://feature_selection\n",
      "    name: feature_selection\n",
      "  - url: hub://auto_trainer\n",
      "    name: train\n",
      "  - url: hub://v2_model_server\n",
      "    name: serving\n",
      "  workflows: []\n",
      "  artifacts: []\n",
      "  conda: ''\n",
      "  source: ''\n",
      "  desired_state: online\n",
      "  owner: PengWei\n",
      "status:\n",
      "  state: online\n",
      "\n"
     ]
    }
   ],
   "source": [
    "print(project.to_yaml())"
   ]
  },
  {
   "cell_type": "markdown",
   "metadata": {},
   "source": [
    "### Saving and loading projects from GIT\n",
    "\n",
    "After you saved your project and its elements (functions, workflows, artifacts, etc.) you can commit all your changes to a \n",
    "GIT repository. This can be done using standard GIT tools or using MLRun `project` methods such as `pull`, `push`, \n",
    "`remote`, which calls the Git API for you.\n",
    "\n",
    "Projects can then be loaded from Git using MLRun `load_project` method, for example: \n",
    "\n",
    "    project = mlrun.load_project(\"./myproj\", \"git://github.com/mlrun/project-demo.git\", name=project_name)\n",
    "    \n",
    "or using MLRun CLI:\n",
    "\n",
    "    mlrun project -n myproj -u \"git://github.com/mlrun/project-demo.git\" ./myproj\n",
    "    \n",
    "Read [CI/CD integration](../../projects/ci-integration.html) for more details."
   ]
  },
  {
   "cell_type": "markdown",
   "metadata": {},
   "source": [
    "<a id=\"gs-tutorial-4-kubeflow-pipelines\"></a>"
   ]
  },
  {
   "cell_type": "markdown",
   "metadata": {},
   "source": [
    "### Using Kubeflow pipelines\n",
    "\n",
    "You're now ready to create a full ML pipeline.\n",
    "This is done by using [Kubeflow Pipelines](https://www.kubeflow.org/docs/pipelines/overview/pipelines-overview/) &mdash;\n",
    "an open-source framework for building and deploying portable, scalable machine-learning workflows based on Docker containers.\n",
    "MLRun leverages this framework to take your existing code and deploy it as steps in the pipeline."
   ]
  },
  {
   "cell_type": "markdown",
   "metadata": {},
   "source": [
    "## Step 3: Defining and saving a pipeline workflow\n",
    "\n",
    "A pipeline is created by running an MLRun **\"workflow\"**.\n",
    "The following code defines a workflow and writes it to a file in your local directory.\n",
    "(The file name is **workflow.py**.)\n",
    "The workflow describes a directed acyclic graph (DAG) for execution using Kubeflow Pipelines, and depicts the connections \n",
    "between the functions and the data as part of an end-to-end pipeline.\n",
    "The workflow file has a definition of a pipeline DSL for connecting the function inputs and outputs.\n",
    "\n",
    "The defined pipeline includes the following steps:\n",
    "\n",
    "- Perform feature selection (`feature_selection`).\n",
    "- Train and the model (`train`).\n",
    "- Test the model with its test data set (`evaluate`).\n",
    "- Deploy the model as a real-time serverless function (`deploy`).\n",
    "\n",
    "```{admonition} Note\n",
    "A pipeline can also include continuous build integration and deployment (CI/CD) steps, such as building container images and deploying models.\n",
    "```"
   ]
  },
  {
   "cell_type": "code",
   "execution_count": 6,
   "metadata": {},
   "outputs": [
    {
     "name": "stdout",
     "output_type": "stream",
     "text": [
      "Writing workflow.py\n"
     ]
    }
   ],
   "source": [
    "%%writefile workflow.py\n",
    "import mlrun\n",
    "from kfp import dsl\n",
    "from mlrun.model import HyperParamOptions\n",
    "\n",
    "from mlrun import (\n",
    "    build_function,\n",
    "    deploy_function,\n",
    "    import_function,\n",
    "    run_function,\n",
    ")\n",
    "\n",
    "    \n",
    "@dsl.pipeline(\n",
    "    name=\"Fraud Detection Pipeline\",\n",
    "    description=\"Detecting fraud from a transactions dataset\"\n",
    ")\n",
    "\n",
    "def kfpipeline(vector_name='transactions-fraud'):\n",
    "    \n",
    "    project = mlrun.get_current_project()\n",
    "    \n",
    "    # Feature selection   \n",
    "    feature_selection = run_function(\n",
    "        \"feature_selection\",\n",
    "        name=\"feature_selection\",\n",
    "        params={'output_vector_name': \"short\",\n",
    "                \"label_column\": project.get_param('label_column', 'label'),\n",
    "                \"k\": 18,\n",
    "                \"min_votes\": 2,\n",
    "                'ignore_type_errors': True\n",
    "               },\n",
    "        inputs={'df_artifact': project.get_artifact_uri(vector_name, 'feature-vector')},\n",
    "        outputs=['feature_scores', 'selected_features_count', 'top_features_vector', 'selected_features'])\n",
    "    \n",
    "    \n",
    "    # train with hyper-paremeters\n",
    "    train = run_function(\n",
    "        \"train\",\n",
    "        name=\"train\",\n",
    "        handler=\"train\",\n",
    "        params={\"sample\": -1, \n",
    "                \"label_column\": project.get_param('label_column', 'label'),\n",
    "                \"test_size\": 0.10},\n",
    "        hyperparams={\"model_name\": ['transaction_fraud_rf', \n",
    "                                    'transaction_fraud_xgboost', \n",
    "                                    'transaction_fraud_adaboost'],\n",
    "                     'model_class': [\"sklearn.ensemble.RandomForestClassifier\", \n",
    "                                     \"sklearn.linear_model.LogisticRegression\",\n",
    "                                     \"sklearn.ensemble.AdaBoostClassifier\"]},\n",
    "        hyper_param_options=HyperParamOptions(selector=\"max.accuracy\"),\n",
    "        inputs={\"dataset\": feature_selection.outputs['top_features_vector']},\n",
    "        outputs=['model', 'test_set'])\n",
    "    \n",
    "            \n",
    "    # test and visualize your model\n",
    "    test = run_function(\n",
    "        \"train\",\n",
    "        name=\"evaluate\",\n",
    "        handler='evaluate',\n",
    "        params={\"label_columns\": project.get_param('label_column', 'label'),\n",
    "                \"model\": train.outputs[\"model\"], \n",
    "                \"drop_columns\": project.get_param('label_column', 'label')},\n",
    "        inputs={\"dataset\": train.outputs[\"test_set\"]})\n",
    "    \n",
    "    # route your serving model to use enrichment\n",
    "    funcs['serving'].set_topology('router', \n",
    "                                  'mlrun.serving.routers.EnrichmentModelRouter', \n",
    "                                  name='EnrichmentModelRouter', \n",
    "                                  feature_vector_uri=\"transactions-fraud-short\", \n",
    "                                  impute_policy={\"*\": \"$mean\"},\n",
    "                                  exist_ok=True)\n",
    "\n",
    "    \n",
    "    # deploy your model as a serverless function, you can pass a list of models to serve \n",
    "    deploy = deploy_function(\"serving\", models=[{\"key\": 'fraud', \"model_path\": train.outputs[\"model\"]}])"
   ]
  },
  {
   "cell_type": "markdown",
   "metadata": {},
   "source": [
    "<a id=\"gs-tutorial-4-step-register-workflow\"></a>"
   ]
  },
  {
   "cell_type": "markdown",
   "metadata": {},
   "source": [
    "## Step 4: Registering the workflow\n",
    "\n",
    "Use the `set_workflow` MLRun project method to register your workflow with MLRun.\n",
    "The following code sets the `name` parameter to the selected workflow name (\"main\") and the `code` parameter to the name of \n",
    "the workflow file that is found in your project directory (**workflow.py**)."
   ]
  },
  {
   "cell_type": "code",
   "execution_count": 7,
   "metadata": {},
   "outputs": [],
   "source": [
    "# Register the workflow file as \"main\"\n",
    "project.set_workflow('main', 'workflow.py')"
   ]
  },
  {
   "cell_type": "markdown",
   "metadata": {},
   "source": [
    "<a id=\"gs-tutorial-4-step-run-pipeline\"></a>"
   ]
  },
  {
   "cell_type": "markdown",
   "metadata": {},
   "source": [
    "## Step 5: Running a pipeline\n",
    "\n",
    "First run the following code to save your project:"
   ]
  },
  {
   "cell_type": "code",
   "execution_count": 8,
   "metadata": {},
   "outputs": [
    {
     "data": {
      "text/plain": [
       "<mlrun.projects.project.MlrunProject at 0x109593a00>"
      ]
     },
     "execution_count": 8,
     "metadata": {},
     "output_type": "execute_result"
    }
   ],
   "source": [
    "project.save()"
   ]
  },
  {
   "cell_type": "markdown",
   "metadata": {},
   "source": [
    "Use the `run` MLRun project method to execute your workflow pipeline with Kubeflow Pipelines.\n",
    "\n",
    "You can pass **`arguments`** or set the **`artifact_path`** to specify a unique path for storing the workflow artifacts."
   ]
  },
  {
   "cell_type": "code",
   "execution_count": 9,
   "metadata": {},
   "outputs": [
    {
     "data": {
      "text/html": [
       "<div>Pipeline running (id=4f63a71a-2019-403a-95ea-dba8f6406123), <a href=\"https://dashboard.default-tenant.app.qb-demos.iguazio-cd1.com/mlprojects/fraud-demo-pengwei/jobs/monitor-workflows/workflow/4f63a71a-2019-403a-95ea-dba8f6406123\" target=\"_blank\"><b>click here</b></a> to view the details in MLRun UI</div>"
      ],
      "text/plain": [
       "<IPython.core.display.HTML object>"
      ]
     },
     "metadata": {},
     "output_type": "display_data"
    },
    {
     "data": {
      "image/svg+xml": [
       "<?xml version=\"1.0\" encoding=\"UTF-8\" standalone=\"no\"?>\n",
       "<!DOCTYPE svg PUBLIC \"-//W3C//DTD SVG 1.1//EN\"\n",
       " \"http://www.w3.org/Graphics/SVG/1.1/DTD/svg11.dtd\">\n",
       "<!-- Generated by graphviz version 8.1.0 (20230707.0739)\n",
       " -->\n",
       "<!-- Title: kfp Pages: 1 -->\n",
       "<svg width=\"206pt\" height=\"188pt\"\n",
       " viewBox=\"0.00 0.00 206.13 188.00\" xmlns=\"http://www.w3.org/2000/svg\" xmlns:xlink=\"http://www.w3.org/1999/xlink\">\n",
       "<g id=\"graph0\" class=\"graph\" transform=\"scale(1 1) rotate(0) translate(4 184)\">\n",
       "<title>kfp</title>\n",
       "<polygon fill=\"white\" stroke=\"none\" points=\"-4,4 -4,-184 202.13,-184 202.13,4 -4,4\"/>\n",
       "<!-- fraud&#45;detection&#45;pipeline&#45;xbkq6&#45;1360068453 -->\n",
       "<g id=\"node1\" class=\"node\">\n",
       "<title>fraud&#45;detection&#45;pipeline&#45;xbkq6&#45;1360068453</title>\n",
       "<ellipse fill=\"green\" stroke=\"black\" cx=\"102.5\" cy=\"-90\" rx=\"27.81\" ry=\"18\"/>\n",
       "<text text-anchor=\"middle\" x=\"102.5\" y=\"-84.95\" font-family=\"Times,serif\" font-size=\"14.00\">train</text>\n",
       "</g>\n",
       "<!-- fraud&#45;detection&#45;pipeline&#45;xbkq6&#45;703518079 -->\n",
       "<g id=\"node2\" class=\"node\">\n",
       "<title>fraud&#45;detection&#45;pipeline&#45;xbkq6&#45;703518079</title>\n",
       "<polygon fill=\"green\" stroke=\"black\" points=\"97,-36 4,-36 0,-32 0,0 93,0 97,-4 97,-36\"/>\n",
       "<polyline fill=\"none\" stroke=\"black\" points=\"93,-32 0,-32\"/>\n",
       "<polyline fill=\"none\" stroke=\"black\" points=\"93,-32 93,0\"/>\n",
       "<polyline fill=\"none\" stroke=\"black\" points=\"93,-32 97,-36\"/>\n",
       "<text text-anchor=\"middle\" x=\"48.5\" y=\"-12.95\" font-family=\"Times,serif\" font-size=\"14.00\">deploy&#45;serving</text>\n",
       "</g>\n",
       "<!-- fraud&#45;detection&#45;pipeline&#45;xbkq6&#45;1360068453&#45;&gt;fraud&#45;detection&#45;pipeline&#45;xbkq6&#45;703518079 -->\n",
       "<g id=\"edge1\" class=\"edge\">\n",
       "<title>fraud&#45;detection&#45;pipeline&#45;xbkq6&#45;1360068453&#45;&gt;fraud&#45;detection&#45;pipeline&#45;xbkq6&#45;703518079</title>\n",
       "<path fill=\"none\" stroke=\"black\" d=\"M90.52,-73.46C84.04,-65.08 75.89,-54.5 68.49,-44.91\"/>\n",
       "<polygon fill=\"black\" stroke=\"black\" points=\"70.85,-43.24 61.97,-37.46 65.31,-47.52 70.85,-43.24\"/>\n",
       "</g>\n",
       "<!-- fraud&#45;detection&#45;pipeline&#45;xbkq6&#45;327673022 -->\n",
       "<g id=\"node3\" class=\"node\">\n",
       "<title>fraud&#45;detection&#45;pipeline&#45;xbkq6&#45;327673022</title>\n",
       "<ellipse fill=\"green\" stroke=\"black\" cx=\"156.5\" cy=\"-18\" rx=\"41.63\" ry=\"18\"/>\n",
       "<text text-anchor=\"middle\" x=\"156.5\" y=\"-12.95\" font-family=\"Times,serif\" font-size=\"14.00\">evaluate</text>\n",
       "</g>\n",
       "<!-- fraud&#45;detection&#45;pipeline&#45;xbkq6&#45;1360068453&#45;&gt;fraud&#45;detection&#45;pipeline&#45;xbkq6&#45;327673022 -->\n",
       "<g id=\"edge2\" class=\"edge\">\n",
       "<title>fraud&#45;detection&#45;pipeline&#45;xbkq6&#45;1360068453&#45;&gt;fraud&#45;detection&#45;pipeline&#45;xbkq6&#45;327673022</title>\n",
       "<path fill=\"none\" stroke=\"black\" d=\"M114.48,-73.46C121.15,-64.83 129.59,-53.88 137.17,-44.06\"/>\n",
       "<polygon fill=\"black\" stroke=\"black\" points=\"140.46,-46.52 143.8,-36.47 134.92,-42.25 140.46,-46.52\"/>\n",
       "</g>\n",
       "<!-- fraud&#45;detection&#45;pipeline&#45;xbkq6&#45;2918883178 -->\n",
       "<g id=\"node4\" class=\"node\">\n",
       "<title>fraud&#45;detection&#45;pipeline&#45;xbkq6&#45;2918883178</title>\n",
       "<ellipse fill=\"green\" stroke=\"black\" cx=\"102.5\" cy=\"-162\" rx=\"72.34\" ry=\"18\"/>\n",
       "<text text-anchor=\"middle\" x=\"102.5\" y=\"-156.95\" font-family=\"Times,serif\" font-size=\"14.00\">feature&#45;selection</text>\n",
       "</g>\n",
       "<!-- fraud&#45;detection&#45;pipeline&#45;xbkq6&#45;2918883178&#45;&gt;fraud&#45;detection&#45;pipeline&#45;xbkq6&#45;1360068453 -->\n",
       "<g id=\"edge3\" class=\"edge\">\n",
       "<title>fraud&#45;detection&#45;pipeline&#45;xbkq6&#45;2918883178&#45;&gt;fraud&#45;detection&#45;pipeline&#45;xbkq6&#45;1360068453</title>\n",
       "<path fill=\"none\" stroke=\"black\" d=\"M102.5,-143.7C102.5,-136.24 102.5,-127.32 102.5,-118.97\"/>\n",
       "<polygon fill=\"black\" stroke=\"black\" points=\"106,-119.1 102.5,-109.1 99,-119.1 106,-119.1\"/>\n",
       "</g>\n",
       "</g>\n",
       "</svg>\n"
      ],
      "text/plain": [
       "<graphviz.graphs.Digraph at 0x12d78c700>"
      ]
     },
     "metadata": {},
     "output_type": "display_data"
    },
    {
     "data": {
      "text/html": [
       "<h2>Run Results</h2><h3>[info] Workflow 4f63a71a-2019-403a-95ea-dba8f6406123 finished, state=Succeeded</h3><br>click the hyper links below to see detailed results<br><table border=\"1\" class=\"dataframe\">\n",
       "  <thead>\n",
       "    <tr style=\"text-align: right;\">\n",
       "      <th>uid</th>\n",
       "      <th>start</th>\n",
       "      <th>state</th>\n",
       "      <th>name</th>\n",
       "      <th>parameters</th>\n",
       "      <th>results</th>\n",
       "    </tr>\n",
       "  </thead>\n",
       "  <tbody>\n",
       "    <tr>\n",
       "      <td><div title=\"d9ebe51f9d8046cea3d913277d030a5d\"><a href=\"https://dashboard.default-tenant.app.qb-demos.iguazio-cd1.com/mlprojects/fraud-demo-pengwei/jobs/monitor/d9ebe51f9d8046cea3d913277d030a5d/overview\" target=\"_blank\" >...7d030a5d</a></div></td>\n",
       "      <td>Jul 13 17:59:42</td>\n",
       "      <td>completed</td>\n",
       "      <td>evaluate</td>\n",
       "      <td><div class=\"dictlist\">label_columns=label</div><div class=\"dictlist\">model=store://artifacts/fraud-demo-pengwei/transaction_fraud_xgboost:4f63a71a-2019-403a-95ea-dba8f6406123</div><div class=\"dictlist\">drop_columns=label</div></td>\n",
       "      <td><div class=\"dictlist\">evaluation_accuracy=0.992503748125937</div><div class=\"dictlist\">evaluation_f1_score=0.2105263157894737</div><div class=\"dictlist\">evaluation_precision_score=0.25</div><div class=\"dictlist\">evaluation_recall_score=0.18181818181818182</div></td>\n",
       "    </tr>\n",
       "    <tr>\n",
       "      <td><div title=\"4ffa49442e1c447f862289ff034a6016\"><a href=\"https://dashboard.default-tenant.app.qb-demos.iguazio-cd1.com/mlprojects/fraud-demo-pengwei/jobs/monitor/4ffa49442e1c447f862289ff034a6016/overview\" target=\"_blank\" >...034a6016</a></div></td>\n",
       "      <td>Jul 13 17:58:27</td>\n",
       "      <td>completed</td>\n",
       "      <td>train</td>\n",
       "      <td><div class=\"dictlist\">sample=-1</div><div class=\"dictlist\">label_column=label</div><div class=\"dictlist\">test_size=0.1</div></td>\n",
       "      <td><div class=\"dictlist\">best_iteration=5</div><div class=\"dictlist\">accuracy=0.992503748125937</div><div class=\"dictlist\">f1_score=0.2105263157894737</div><div class=\"dictlist\">precision_score=0.25</div><div class=\"dictlist\">recall_score=0.18181818181818182</div></td>\n",
       "    </tr>\n",
       "    <tr>\n",
       "      <td><div title=\"341c42ca3c7e4304ac653729c6459db2\"><a href=\"https://dashboard.default-tenant.app.qb-demos.iguazio-cd1.com/mlprojects/fraud-demo-pengwei/jobs/monitor/341c42ca3c7e4304ac653729c6459db2/overview\" target=\"_blank\" >...c6459db2</a></div></td>\n",
       "      <td>Jul 13 17:57:43</td>\n",
       "      <td>completed</td>\n",
       "      <td>feature-selection</td>\n",
       "      <td><div class=\"dictlist\">output_vector_name=short</div><div class=\"dictlist\">label_column=label</div><div class=\"dictlist\">k=18</div><div class=\"dictlist\">min_votes=2</div><div class=\"dictlist\">ignore_type_errors=True</div></td>\n",
       "      <td><div class=\"dictlist\">top_features_vector=store://feature-vectors/fraud-demo-pengwei/short</div></td>\n",
       "    </tr>\n",
       "  </tbody>\n",
       "</table>"
      ],
      "text/plain": [
       "<IPython.core.display.HTML object>"
      ]
     },
     "metadata": {},
     "output_type": "display_data"
    }
   ],
   "source": [
    "run_id = project.run(\n",
    "    'main',\n",
    "    arguments={}, \n",
    "    dirty=True, watch=True)"
   ]
  },
  {
   "cell_type": "markdown",
   "metadata": {},
   "source": [
    "<a id=\"gs-tutorial-4-step-ui-pipeline-view\"></a>"
   ]
  },
  {
   "cell_type": "markdown",
   "metadata": {},
   "source": [
    "## Step 6: Test the model endpoint\n"
   ]
  },
  {
   "cell_type": "markdown",
   "metadata": {},
   "source": [
    "Now that your model is deployed using the pipeline, you can invoke it as usual:"
   ]
  },
  {
   "cell_type": "code",
   "execution_count": 10,
   "metadata": {},
   "outputs": [
    {
     "name": "stdout",
     "output_type": "stream",
     "text": [
      "> 2023-07-13 11:01:29,545 [info] invoking function: {'method': 'POST', 'path': 'http://fraud-demo-pengwei-serving-fraud-demo-pengwei.default-tenant.app.qb-demos.iguazio-cd1.com//v2/models/fraud/infer'}\n"
     ]
    },
    {
     "data": {
      "text/plain": [
       "{'id': '1bcb71c7-eae0-4a28-ab7f-fa91547d2343',\n",
       " 'model_name': 'fraud',\n",
       " 'outputs': [0]}"
      ]
     },
     "execution_count": 10,
     "metadata": {},
     "output_type": "execute_result"
    }
   ],
   "source": [
    "# Define your serving function\n",
    "serving_fn = project.get_function('serving')\n",
    "\n",
    "# Choose an id for your test\n",
    "sample_id = 'C1000148617'\n",
    "model_inference_path = '/v2/models/fraud/infer'\n",
    "\n",
    "# Send our sample ID for predcition\n",
    "serving_fn.invoke(path=model_inference_path,\n",
    "                  body={'inputs': [[sample_id]]})"
   ]
  },
  {
   "cell_type": "markdown",
   "metadata": {},
   "source": [
    "<a id=\"gs-tutorial-4-done\"></a>"
   ]
  },
  {
   "cell_type": "markdown",
   "metadata": {},
   "source": [
    "## Done!"
   ]
  }
 ],
 "metadata": {
  "kernelspec": {
   "display_name": "pii",
   "language": "python",
   "name": "pii"
  },
  "language_info": {
   "codemirror_mode": {
    "name": "ipython",
    "version": 3
   },
   "file_extension": ".py",
   "mimetype": "text/x-python",
   "name": "python",
   "nbconvert_exporter": "python",
   "pygments_lexer": "ipython3",
   "version": "3.8.5"
  }
 },
 "nbformat": 4,
 "nbformat_minor": 4
}
